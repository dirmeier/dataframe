{
 "cells": [
  {
   "cell_type": "markdown",
   "metadata": {},
   "source": [
    "==================\n",
    "DataFrame tutorial\n",
    "==================\n",
    "\n",
    "This is a short tutorial with examples for the ``dataframe`` library.\n",
    "\n",
    "---------------------------\n",
    "Creating a DataFrame object\n",
    "---------------------------\n",
    "\n",
    "If you want to use data frames, first import it. For demonstration purposes we also include some datasets:"
   ]
  },
  {
   "cell_type": "code",
   "execution_count": 10,
   "metadata": {
    "collapsed": false
   },
   "outputs": [],
   "source": [
    "from dataframe import DataFrame\n",
    "from dataframe import GroupedDataFrame\n",
    "from sklearn import datasets\n",
    "import re\n",
    "iris_data = datasets.load_iris()"
   ]
  },
  {
   "cell_type": "markdown",
   "metadata": {},
   "source": [
    "This will load all the data from ``sklearn``. In particular we use the iris dataset, which goes back to Ronald Fisher I think. From the iris dataset, we take the feature names and covariables for each feature and put it into a dictionary."
   ]
  },
  {
   "cell_type": "code",
   "execution_count": 4,
   "metadata": {
    "collapsed": false
   },
   "outputs": [
    {
     "name": "stdout",
     "output_type": "stream",
     "text": [
      "['sepallength', 'sepalwidth', 'petallength', 'petalwidth']\n"
     ]
    }
   ],
   "source": [
    "features = [re.sub(\"\\s|cm|\\(|\\)\", \"\", x) for x in iris_data.feature_names] \n",
    "print(features)"
   ]
  },
  {
   "cell_type": "code",
   "execution_count": 5,
   "metadata": {
    "collapsed": true
   },
   "outputs": [],
   "source": [
    "data = { features[i]: iris_data.data[:,i] for i in range(len(iris_data.data[1,:])) }\n",
    "data[\"target\"] = iris_data.target"
   ]
  },
  {
   "cell_type": "markdown",
   "metadata": {},
   "source": [
    "We can take the dictionary to create a ``DataFrame`` object out of it using:"
   ]
  },
  {
   "cell_type": "code",
   "execution_count": 7,
   "metadata": {
    "collapsed": false
   },
   "outputs": [],
   "source": [
    "frame = DataFrame(**data)"
   ]
  },
  {
   "cell_type": "markdown",
   "metadata": {},
   "source": [
    "Notice that we use the ``**kwargs`` syntax to give a ``dict()`` to the constructor. Alternatively you can just call the constructor like this:"
   ]
  },
  {
   "cell_type": "code",
   "execution_count": 8,
   "metadata": {
    "collapsed": false
   },
   "outputs": [],
   "source": [
    "frame_expl = DataFrame(sepallength=iris_data.data[:,0],\n",
    "                       sepalwidth=iris_data.data[:,1],\n",
    "                       petallength=iris_data.data[:,2],\n",
    "                       petalwidth=iris_data.data[:,3],\n",
    "                       target=iris_data.target)"
   ]
  },
  {
   "cell_type": "markdown",
   "metadata": {},
   "source": [
    "The results are the same, only that the second approach is more verbose and we have to enter the arguments manually."
   ]
  },
  {
   "cell_type": "code",
   "execution_count": 9,
   "metadata": {
    "collapsed": false,
    "scrolled": true
   },
   "outputs": [
    {
     "name": "stdout",
     "output_type": "stream",
     "text": [
      "Frame kwargs:\n",
      "+-------------+------------+-------------+------------+--------+\n",
      "| petallength | petalwidth | sepallength | sepalwidth | target |\n",
      "+-------------+------------+-------------+------------+--------+\n",
      "|     1.4     |    0.2     |     5.1     |    3.5     |   0    |\n",
      "|     1.4     |    0.2     |     4.9     |    3.0     |   0    |\n",
      "|     1.3     |    0.2     |     4.7     |    3.2     |   0    |\n",
      "|     1.5     |    0.2     |     4.6     |    3.1     |   0    |\n",
      "|     1.4     |    0.2     |     5.0     |    3.6     |   0    |\n",
      "|      .      |     .      |      .      |     .      |   .    |\n",
      "|      .      |     .      |      .      |     .      |   .    |\n",
      "|      .      |     .      |      .      |     .      |   .    |\n",
      "+-------------+------------+-------------+------------+--------+\n",
      "Frame verbose:\n",
      "+-------------+------------+-------------+------------+--------+\n",
      "| petallength | petalwidth | sepallength | sepalwidth | target |\n",
      "+-------------+------------+-------------+------------+--------+\n",
      "|     1.4     |    0.2     |     5.1     |    3.5     |   0    |\n",
      "|     1.4     |    0.2     |     4.9     |    3.0     |   0    |\n",
      "|     1.3     |    0.2     |     4.7     |    3.2     |   0    |\n",
      "|     1.5     |    0.2     |     4.6     |    3.1     |   0    |\n",
      "|     1.4     |    0.2     |     5.0     |    3.6     |   0    |\n",
      "|      .      |     .      |      .      |     .      |   .    |\n",
      "|      .      |     .      |      .      |     .      |   .    |\n",
      "|      .      |     .      |      .      |     .      |   .    |\n",
      "+-------------+------------+-------------+------------+--------+\n"
     ]
    }
   ],
   "source": [
    "print(\"Frame kwargs:\")\n",
    "print(frame + \"\\n\")\n",
    "print(\"Frame verbose:\")\n",
    "print(frame_expl)"
   ]
  },
  {
   "cell_type": "markdown",
   "metadata": {},
   "source": [
    "Note that upon instantiation the column names are sorted alphabetically. "
   ]
  },
  {
   "cell_type": "code",
   "execution_count": null,
   "metadata": {
    "collapsed": true
   },
   "outputs": [],
   "source": [
    "-------------------------\n",
    "Using the DataFrame class\n",
    "-------------------------\n",
    "\n",
    "Basically ``DataFrame`` has four nice features. I will explain them one at a time"
   ]
  },
  {
   "cell_type": "code",
   "execution_count": null,
   "metadata": {
    "collapsed": true
   },
   "outputs": [],
   "source": [
    "Subsetting DataFrame columns\n",
    "----------------------------\n",
    "\n",
    "``subset`` lets you select some columns from the original DataFrame and returns a new DataFrame object,"
   ]
  },
  {
   "cell_type": "code",
   "execution_count": 14,
   "metadata": {
    "collapsed": false
   },
   "outputs": [],
   "source": [
    "targets = frame.subset(\"target\")"
   ]
  },
  {
   "cell_type": "markdown",
   "metadata": {},
   "source": [
    "Aggregating DataFrame columns\n",
    "-----------------------------\n",
    "\n",
    "``aggregate`` takes one or multiple columns and computes an aggregation function. With the aggregated values a new DataFrame object is returned. **Beware** that your aggregation function returns a **scalar**, e.g. a ``float``. First we need to write a class that extends ``Callable`` and overwrites ``__call__``. For example if you want to have an implementation of the ``mean`` you can do:"
   ]
  },
  {
   "cell_type": "code",
   "execution_count": 17,
   "metadata": {
    "collapsed": true
   },
   "outputs": [],
   "source": [
    "from dataframe import Callable\n",
    "import functools\n",
    "\n",
    "class Mean(Callable):\n",
    "    def __call__(self, *args):\n",
    "        vals = args[0].values()\n",
    "        return reduce(lambda x, y: x + y, vals) / len(vals)"
   ]
  },
  {
   "cell_type": "markdown",
   "metadata": {},
   "source": [
    "Now you can aggregate the frame like this:"
   ]
  },
  {
   "cell_type": "code",
   "execution_count": null,
   "metadata": {
    "collapsed": true
   },
   "outputs": [],
   "source": [
    "agg = frame.aggregate(Mean, \"mean\", \"petallength\")\n",
    "print(agg[\"mean\"][0])"
   ]
  },
  {
   "cell_type": "markdown",
   "metadata": {},
   "source": [
    "Modifying DataFrame columns\n",
    "---------------------------\n",
    "\n",
    "Similar to ``aggregate`` we can ``modify`` several columns. To do that again write a class extending ``Callable``. **Beware** that unlike in aggregation, modification requires to give a list of the **same size** as your original column length. For example:"
   ]
  },
  {
   "cell_type": "code",
   "execution_count": 19,
   "metadata": {
    "collapsed": false
   },
   "outputs": [
    {
     "data": {
      "text/plain": [
       "150"
      ]
     },
     "execution_count": 19,
     "metadata": {},
     "output_type": "execute_result"
    }
   ],
   "source": [
    "print(len(frame[\"target\"].values()))"
   ]
  },
  {
   "cell_type": "markdown",
   "metadata": {},
   "source": [
    "So if we call ``modify`` on a column in our ``frame`` the result has to be of length ``150``. \n",
    "As an example lets standardize the column ``pentallength``."
   ]
  },
  {
   "cell_type": "code",
   "execution_count": null,
   "metadata": {
    "collapsed": true
   },
   "outputs": [],
   "source": [
    "import scipy.stats as sps\n",
    "\n",
    "class Zscore(Callable):\n",
    "    def __call__(self, *args):\n",
    "        vals = args[0].values()\n",
    "        return sps.zscore(vals).tolist()\n",
    "    \n",
    "sta= frame.modify(Zscore, \"zscore\", \"petallength\")\n",
    "print(sta[\"zscore\"][0:5])"
   ]
  }
 ],
 "metadata": {
  "kernelspec": {
   "display_name": "Python 3",
   "language": "python",
   "name": "python3"
  },
  "language_info": {
   "codemirror_mode": {
    "name": "ipython",
    "version": 3
   },
   "file_extension": ".py",
   "mimetype": "text/x-python",
   "name": "python",
   "nbconvert_exporter": "python",
   "pygments_lexer": "ipython3",
   "version": "3.4.5"
  }
 },
 "nbformat": 4,
 "nbformat_minor": 1
}
