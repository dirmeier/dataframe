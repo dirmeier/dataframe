{
 "cells": [
  {
   "cell_type": "markdown",
   "metadata": {},
   "source": [
    "# DataFrame tutorial\n",
    "\n",
    "This is a short tutorial with examples for the ``dataframe`` library.\n"
   ]
  },
  {
   "cell_type": "markdown",
   "metadata": {},
   "source": [
    "## Creating a DataFrame object\n",
    "\n",
    "If you want to use data frames, first import it. For demonstration purposes we also include some datasets:"
   ]
  },
  {
   "cell_type": "code",
   "execution_count": 1,
   "metadata": {
    "collapsed": false
   },
   "outputs": [],
   "source": [
    "from dataframe import DataFrame\n",
    "from dataframe import GroupedDataFrame\n",
    "from sklearn import datasets\n",
    "import re\n",
    "iris_data = datasets.load_iris()"
   ]
  },
  {
   "cell_type": "markdown",
   "metadata": {},
   "source": [
    "This will load all the data from ``sklearn``. In particular we use the iris dataset, which goes back to Ronald Fisher I think. From the iris dataset, we take the feature names and covariables for each feature and put it into a dictionary."
   ]
  },
  {
   "cell_type": "code",
   "execution_count": 2,
   "metadata": {
    "collapsed": false
   },
   "outputs": [
    {
     "name": "stdout",
     "output_type": "stream",
     "text": [
      "['sepallength', 'sepalwidth', 'petallength', 'petalwidth']\n"
     ]
    }
   ],
   "source": [
    "features = [re.sub(\"\\s|cm|\\(|\\)\", \"\", x) for x in iris_data.feature_names] \n",
    "print(features)"
   ]
  },
  {
   "cell_type": "code",
   "execution_count": 3,
   "metadata": {
    "collapsed": true
   },
   "outputs": [],
   "source": [
    "data = { features[i]: iris_data.data[:,i] for i in range(len(iris_data.data[1,:])) }\n",
    "data[\"target\"] = iris_data.target"
   ]
  },
  {
   "cell_type": "markdown",
   "metadata": {},
   "source": [
    "We can take the dictionary to create a ``DataFrame`` object out of it using:"
   ]
  },
  {
   "cell_type": "code",
   "execution_count": 4,
   "metadata": {
    "collapsed": false
   },
   "outputs": [],
   "source": [
    "frame = DataFrame(**data)"
   ]
  },
  {
   "cell_type": "markdown",
   "metadata": {},
   "source": [
    "Notice that we use the ``**kwargs`` syntax to give a ``dict()`` to the constructor. Alternatively you can just call the constructor like this:"
   ]
  },
  {
   "cell_type": "code",
   "execution_count": 5,
   "metadata": {
    "collapsed": false
   },
   "outputs": [],
   "source": [
    "frame_expl = DataFrame(sepallength=iris_data.data[:,0],\n",
    "                       sepalwidth=iris_data.data[:,1],\n",
    "                       petallength=iris_data.data[:,2],\n",
    "                       petalwidth=iris_data.data[:,3],\n",
    "                       target=iris_data.target)"
   ]
  },
  {
   "cell_type": "markdown",
   "metadata": {},
   "source": [
    "The results are the same, only that the second approach is more verbose and we have to enter the arguments manually."
   ]
  },
  {
   "cell_type": "code",
   "execution_count": 6,
   "metadata": {
    "collapsed": false,
    "scrolled": true
   },
   "outputs": [
    {
     "name": "stdout",
     "output_type": "stream",
     "text": [
      "Frame kwargs:\n",
      "+-------------+------------+-------------+------------+--------+\n",
      "| petallength | petalwidth | sepallength | sepalwidth | target |\n",
      "+-------------+------------+-------------+------------+--------+\n",
      "|     1.4     |    0.2     |     5.1     |    3.5     |   0    |\n",
      "|     1.4     |    0.2     |     4.9     |    3.0     |   0    |\n",
      "|     1.3     |    0.2     |     4.7     |    3.2     |   0    |\n",
      "|      .      |     .      |      .      |     .      |   .    |\n",
      "|      .      |     .      |      .      |     .      |   .    |\n",
      "|      .      |     .      |      .      |     .      |   .    |\n",
      "|     5.2     |    2.0     |     6.5     |    3.0     |   2    |\n",
      "|     5.4     |    2.3     |     6.2     |    3.4     |   2    |\n",
      "|     5.1     |    1.8     |     5.9     |    3.0     |   2    |\n",
      "+-------------+------------+-------------+------------+--------+\n",
      "Frame verbose:\n",
      "+-------------+------------+-------------+------------+--------+\n",
      "| petallength | petalwidth | sepallength | sepalwidth | target |\n",
      "+-------------+------------+-------------+------------+--------+\n",
      "|     1.4     |    0.2     |     5.1     |    3.5     |   0    |\n",
      "|     1.4     |    0.2     |     4.9     |    3.0     |   0    |\n",
      "|     1.3     |    0.2     |     4.7     |    3.2     |   0    |\n",
      "|      .      |     .      |      .      |     .      |   .    |\n",
      "|      .      |     .      |      .      |     .      |   .    |\n",
      "|      .      |     .      |      .      |     .      |   .    |\n",
      "|     5.2     |    2.0     |     6.5     |    3.0     |   2    |\n",
      "|     5.4     |    2.3     |     6.2     |    3.4     |   2    |\n",
      "|     5.1     |    1.8     |     5.9     |    3.0     |   2    |\n",
      "+-------------+------------+-------------+------------+--------+\n"
     ]
    }
   ],
   "source": [
    "print(\"Frame kwargs:\")\n",
    "print(frame)\n",
    "print(\"Frame verbose:\")\n",
    "print(frame_expl)"
   ]
  },
  {
   "cell_type": "markdown",
   "metadata": {},
   "source": [
    "Note that upon instantiation the column names are sorted alphabetically. "
   ]
  },
  {
   "cell_type": "markdown",
   "metadata": {
    "collapsed": true
   },
   "source": [
    "## Using the DataFrame class\n",
    "\n",
    "Basically ``DataFrame`` has four nice features. I will explain them one at a time"
   ]
  },
  {
   "cell_type": "markdown",
   "metadata": {
    "collapsed": true
   },
   "source": [
    "### Subsetting DataFrame columns\n",
    "\n",
    "``subset`` lets you select some columns from the original DataFrame and returns a new DataFrame object,"
   ]
  },
  {
   "cell_type": "code",
   "execution_count": 7,
   "metadata": {
    "collapsed": false
   },
   "outputs": [],
   "source": [
    "targets = frame.subset(\"target\")"
   ]
  },
  {
   "cell_type": "markdown",
   "metadata": {},
   "source": [
    "### Aggregating DataFrame columns\n",
    "\n",
    "``aggregate`` takes one or multiple columns and computes an aggregation function. With the aggregated values a new DataFrame object is returned. **Beware** that your aggregation function returns a **scalar**, e.g. a ``float``. First we need to write a class that extends ``Callable`` and overwrites ``__call__``. For example if you want to have an implementation of the ``mean`` you can do:"
   ]
  },
  {
   "cell_type": "code",
   "execution_count": 8,
   "metadata": {
    "collapsed": true
   },
   "outputs": [],
   "source": [
    "from dataframe import Callable\n",
    "import numpy\n",
    "\n",
    "class Mean(Callable):\n",
    "    def __call__(self, *args):\n",
    "        vals = args[0].values()\n",
    "        return numpy.mean(vals)"
   ]
  },
  {
   "cell_type": "markdown",
   "metadata": {},
   "source": [
    "Now you can aggregate the frame like this:"
   ]
  },
  {
   "cell_type": "code",
   "execution_count": 9,
   "metadata": {
    "collapsed": false
   },
   "outputs": [
    {
     "name": "stdout",
     "output_type": "stream",
     "text": [
      "3.75866666667\n"
     ]
    }
   ],
   "source": [
    "agg = frame.aggregate(Mean, \"mean\", \"petallength\")\n",
    "print(agg[\"mean\"][0])"
   ]
  },
  {
   "cell_type": "markdown",
   "metadata": {},
   "source": [
    "### Modifying DataFrame columns\n",
    "\n",
    "\n",
    "Similar to ``aggregate`` we can ``modify`` several columns. To do that again write a class extending ``Callable``. **Beware** that unlike in aggregation, modification requires to give a list of the **same size** as your original column length. For example:"
   ]
  },
  {
   "cell_type": "code",
   "execution_count": 10,
   "metadata": {
    "collapsed": false
   },
   "outputs": [
    {
     "name": "stdout",
     "output_type": "stream",
     "text": [
      "150\n"
     ]
    }
   ],
   "source": [
    "print(len(frame[\"target\"].values()))"
   ]
  },
  {
   "cell_type": "markdown",
   "metadata": {},
   "source": [
    "So if we call ``modify`` on a column in our ``frame`` the result has to be of length ``150``. \n",
    "As an example lets standardize the column ``pentallength``."
   ]
  },
  {
   "cell_type": "code",
   "execution_count": 11,
   "metadata": {
    "collapsed": false
   },
   "outputs": [
    {
     "name": "stdout",
     "output_type": "stream",
     "text": [
      "[-1.3412724047598314, -1.3412724047598314, -1.3981381087490836, -1.284406700770579, -1.3412724047598314]\n"
     ]
    }
   ],
   "source": [
    "import scipy.stats as sps\n",
    "\n",
    "class Zscore(Callable):\n",
    "    def __call__(self, *args):\n",
    "        vals = args[0].values()\n",
    "        return sps.zscore(vals).tolist()\n",
    "    \n",
    "sta = frame.modify(Zscore, \"zscore\", \"petallength\")\n",
    "print(sta[\"zscore\"][0:5])"
   ]
  },
  {
   "cell_type": "markdown",
   "metadata": {},
   "source": [
    "### Grouping the DataFrame\n",
    "\n",
    "Using ``group`` creates a new object from your ``DataFrame`` that puts single rows into groups, creating a ``GroupedDataFrame`` object."
   ]
  },
  {
   "cell_type": "code",
   "execution_count": 12,
   "metadata": {
    "collapsed": false
   },
   "outputs": [
    {
     "name": "stdout",
     "output_type": "stream",
     "text": [
      "+-------------+------------+-------------+------------+--------+---------------------+\n",
      "| petallength | petalwidth | sepallength | sepalwidth | target |        zscore       |\n",
      "+-------------+------------+-------------+------------+--------+---------------------+\n",
      "|     1.4     |    0.2     |     5.1     |    3.5     |   0    | -1.3412724047598314 |\n",
      "|     1.4     |    0.2     |     4.9     |    3.0     |   0    | -1.3412724047598314 |\n",
      "|     1.3     |    0.2     |     4.7     |    3.2     |   0    | -1.3981381087490836 |\n",
      "|     1.5     |    0.2     |     4.6     |    3.1     |   0    |  -1.284406700770579 |\n",
      "|     1.4     |    0.2     |     5.0     |    3.6     |   0    | -1.3412724047598314 |\n",
      "|     ---     |    ---     |     ---     |    ---     |  ---   |         ---         |\n",
      "|     4.7     |    1.4     |     7.0     |    3.2     |   1    |  0.5352958268854957 |\n",
      "|     4.5     |    1.5     |     6.4     |    3.2     |   1    |  0.4215644189069909 |\n",
      "|     4.9     |    1.5     |     6.9     |    3.1     |   1    |  0.6490272348640005 |\n",
      "|     4.0     |    1.3     |     5.5     |    2.3     |   1    | 0.13723589896072927 |\n",
      "|     4.6     |    1.5     |     6.5     |    2.8     |   1    |  0.4784301228962431 |\n",
      "+-------------+------------+-------------+------------+--------+---------------------+\n"
     ]
    }
   ],
   "source": [
    "grouped_frame = frame.group(\"target\")\n",
    "print(grouped_frame)"
   ]
  },
  {
   "cell_type": "markdown",
   "metadata": {},
   "source": [
    "In the table to the top, we created several groups. Visually you can distinguish a ``DataFrame`` from a ``GroupedDataFrame`` by the **dashes** when printing. We'll discuss using the ``GroupedDataFrame`` class in the next section."
   ]
  },
  {
   "cell_type": "markdown",
   "metadata": {},
   "source": [
    "## Using the GroupedDataFrame class\n",
    "\n",
    "Basically ``GroupedDataFrame`` has the same features as ``DataFrame`` since both inherit from the same superclass ``ADataFrame``. So the routines do the same things, only on every **group** and not on the **whole** ``DataFrame`` object."
   ]
  },
  {
   "cell_type": "code",
   "execution_count": null,
   "metadata": {
    "collapsed": true
   },
   "outputs": [],
   "source": []
  }
 ],
 "metadata": {
  "kernelspec": {
   "display_name": "Python 3",
   "language": "python",
   "name": "python3"
  },
  "language_info": {
   "codemirror_mode": {
    "name": "ipython",
    "version": 3
   },
   "file_extension": ".py",
   "mimetype": "text/x-python",
   "name": "python",
   "nbconvert_exporter": "python",
   "pygments_lexer": "ipython3",
   "version": "3.5.2"
  }
 },
 "nbformat": 4,
 "nbformat_minor": 1
}
