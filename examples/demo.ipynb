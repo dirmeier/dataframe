{
  "cells": [
    {
      "cell_type": "code",
      "source": [
        "from sklearn import datasets\n",
        "import re\n",
        "from dataframe import Callable\n",
        "import numpy"
      ],
      "outputs": [],
      "execution_count": 1,
      "metadata": {
        "collapsed": false,
        "outputHidden": false,
        "inputHidden": false
      }
    },
    {
      "cell_type": "code",
      "source": [
        "class Mean(Callable):\n",
        "    def __call__(self, *args):\n",
        "        vals = args[0].values\n",
        "        return numpy.mean(vals)"
      ],
      "outputs": [],
      "execution_count": 3,
      "metadata": {
        "collapsed": false,
        "outputHidden": false,
        "inputHidden": false
      }
    },
    {
      "cell_type": "code",
      "source": [
        "iris_data = datasets.load_iris()\n",
        "features = [re.sub(\"\\s|cm|\\(|\\)\", \"\", x) for x in iris_data.feature_names]\n",
        "data = {features[i]: iris_data.data[:,i] for i in range(len(iris_data.data[1,:]))}\n",
        "data[\"target\"] = iris_data.target"
      ],
      "outputs": [],
      "execution_count": 4,
      "metadata": {
        "collapsed": false,
        "outputHidden": false,
        "inputHidden": false
      }
    },
    {
      "cell_type": "code",
      "source": [
        "from dataframe import DataFrame\n",
        "from dataframe import group, aggregate, subset\n",
        "frame = DataFrame(**data)\n",
        "frame"
      ],
      "outputs": [
        {
          "output_type": "execute_result",
          "execution_count": 5,
          "data": {
            "text/plain": [
              "\n",
              "A dataframe\n",
              "\n",
              "petallength    petalwidth    sepallength    sepalwidth    target\n",
              "-------------  ------------  -------------  ------------  --------\n",
              "1.4            0.2           5.1            3.5           0\n",
              "1.4            0.2           4.9            3.0           0\n",
              "1.3            0.2           4.7            3.2           0\n",
              ".              .             .              .             .\n",
              ".              .             .              .             .\n",
              ".              .             .              .             .\n",
              "5.2            2.0           6.5            3.0           2\n",
              "5.4            2.3           6.2            3.4           2\n",
              "5.1            1.8           5.9            3.0           2"
            ]
          },
          "metadata": {}
        }
      ],
      "execution_count": 5,
      "metadata": {
        "collapsed": false,
        "outputHidden": false,
        "inputHidden": false
      }
    },
    {
      "cell_type": "code",
      "source": [
        "frame >> group(\"target\") >> aggregate(Mean, \"m\", \"sepalwidth\")"
      ],
      "outputs": [
        {
          "output_type": "execute_result",
          "execution_count": 6,
          "data": {
            "text/plain": [
              "\n",
              "A dataframe\n",
              "\n",
              "    m    target\n",
              "-----  --------\n",
              "3.418         0\n",
              "2.77          1\n",
              "2.974         2"
            ]
          },
          "metadata": {}
        }
      ],
      "execution_count": 6,
      "metadata": {
        "collapsed": false,
        "outputHidden": false,
        "inputHidden": false
      }
    }
  ],
  "metadata": {
    "kernelspec": {
      "name": "python3",
      "language": "python",
      "display_name": "Python 3"
    },
    "kernel_info": {
      "name": "python3"
    },
    "language_info": {
      "version": "3.5.2",
      "mimetype": "text/x-python",
      "nbconvert_exporter": "python",
      "file_extension": ".py",
      "pygments_lexer": "ipython3",
      "codemirror_mode": {
        "version": 3,
        "name": "ipython"
      },
      "name": "python"
    }
  },
  "nbformat": 4,
  "nbformat_minor": 4
}