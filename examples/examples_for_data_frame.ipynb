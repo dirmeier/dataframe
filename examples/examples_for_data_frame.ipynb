{
 "cells": [
  {
   "cell_type": "markdown",
   "metadata": {
    "collapsed": true
   },
   "source": [
    "# DataFrame tutorial\n",
    "\n",
    "This is a short tutorial with examples for the ``dataframe`` library.\n"
   ]
  },
  {
   "cell_type": "markdown",
   "metadata": {},
   "source": [
    "## Creating a DataFrame object\n",
    "\n",
    "If we want to use ``dataframe``, we first import the two central classes:"
   ]
  },
  {
   "cell_type": "code",
   "execution_count": 1,
   "metadata": {
    "collapsed": true
   },
   "outputs": [],
   "source": [
    "from dataframe import DataFrame\n",
    "from dataframe import GroupedDataFrame"
   ]
  },
  {
   "cell_type": "markdown",
   "metadata": {},
   "source": [
    "For demonstration purposes we also include some datasets (and ``regex`` for parsing):"
   ]
  },
  {
   "cell_type": "code",
   "execution_count": 2,
   "metadata": {
    "collapsed": false
   },
   "outputs": [],
   "source": [
    "from sklearn import datasets\n",
    "import re\n",
    "iris_data = datasets.load_iris()"
   ]
  },
  {
   "cell_type": "markdown",
   "metadata": {},
   "source": [
    "This will load all the data from ``sklearn``. In particular we use the iris dataset, which goes back to Ronald Fisher I think. From the iris dataset, we take the feature names and covariables for each feature and put it into a dictionary."
   ]
  },
  {
   "cell_type": "code",
   "execution_count": 3,
   "metadata": {
    "collapsed": false
   },
   "outputs": [
    {
     "name": "stdout",
     "output_type": "stream",
     "text": [
      "['sepallength', 'sepalwidth', 'petallength', 'petalwidth']\n"
     ]
    }
   ],
   "source": [
    "features = [re.sub(\"\\s|cm|\\(|\\)\", \"\", x) for x in iris_data.feature_names] \n",
    "print(features)"
   ]
  },
  {
   "cell_type": "code",
   "execution_count": 4,
   "metadata": {
    "collapsed": false
   },
   "outputs": [],
   "source": [
    "data = {features[i]: iris_data.data[:,i] for i in range(len(iris_data.data[1,:]))}"
   ]
  },
  {
   "cell_type": "markdown",
   "metadata": {},
   "source": [
    "We also add the species of each sample:"
   ]
  },
  {
   "cell_type": "code",
   "execution_count": 5,
   "metadata": {
    "collapsed": true
   },
   "outputs": [],
   "source": [
    "data[\"target\"] = iris_data.target"
   ]
  },
  {
   "cell_type": "markdown",
   "metadata": {},
   "source": [
    "Now we can take the dictionary to create a ``DataFrame`` object by using:"
   ]
  },
  {
   "cell_type": "code",
   "execution_count": 6,
   "metadata": {
    "collapsed": false
   },
   "outputs": [],
   "source": [
    "frame = DataFrame(**data)"
   ]
  },
  {
   "cell_type": "markdown",
   "metadata": {},
   "source": [
    "Notice that we use the ``**kwargs`` syntax to give keyword arguments to the constructor. Alternatively you can just call the constructor like this:"
   ]
  },
  {
   "cell_type": "code",
   "execution_count": 7,
   "metadata": {
    "collapsed": false
   },
   "outputs": [],
   "source": [
    "frame_expl = DataFrame(sepallength=iris_data.data[:,0],\n",
    "                       sepalwidth=iris_data.data[:,1],\n",
    "                       petallength=iris_data.data[:,2],\n",
    "                       petalwidth=iris_data.data[:,3],\n",
    "                       target=iris_data.target)"
   ]
  },
  {
   "cell_type": "markdown",
   "metadata": {},
   "source": [
    "The results are the same, only that the second approach is more verbose and we have to enter the arguments manually."
   ]
  },
  {
   "cell_type": "code",
   "execution_count": 8,
   "metadata": {
    "collapsed": false,
    "scrolled": true
   },
   "outputs": [
    {
     "name": "stdout",
     "output_type": "stream",
     "text": [
      "Frame kwargs:\n",
      "\n",
      "A dataframe\n",
      "\n",
      "petallength    petalwidth    sepallength    sepalwidth    target\n",
      "-------------  ------------  -------------  ------------  --------\n",
      "1.4            0.2           5.1            3.5           0\n",
      "1.4            0.2           4.9            3.0           0\n",
      "1.3            0.2           4.7            3.2           0\n",
      ".              .             .              .             .\n",
      ".              .             .              .             .\n",
      ".              .             .              .             .\n",
      "5.2            2.0           6.5            3.0           2\n",
      "5.4            2.3           6.2            3.4           2\n",
      "5.1            1.8           5.9            3.0           2\n",
      "Frame verbose:\n",
      "\n",
      "A dataframe\n",
      "\n",
      "petallength    petalwidth    sepallength    sepalwidth    target\n",
      "-------------  ------------  -------------  ------------  --------\n",
      "1.4            0.2           5.1            3.5           0\n",
      "1.4            0.2           4.9            3.0           0\n",
      "1.3            0.2           4.7            3.2           0\n",
      ".              .             .              .             .\n",
      ".              .             .              .             .\n",
      ".              .             .              .             .\n",
      "5.2            2.0           6.5            3.0           2\n",
      "5.4            2.3           6.2            3.4           2\n",
      "5.1            1.8           5.9            3.0           2\n"
     ]
    }
   ],
   "source": [
    "print(\"Frame kwargs:\")\n",
    "print(frame)\n",
    "print(\"Frame verbose:\")\n",
    "print(frame_expl)"
   ]
  },
  {
   "cell_type": "markdown",
   "metadata": {},
   "source": [
    "Note that upon instantiation the column names are sorted alphabetically. "
   ]
  },
  {
   "cell_type": "markdown",
   "metadata": {
    "collapsed": true
   },
   "source": [
    "## Using the DataFrame class\n",
    "\n",
    "Basically ``DataFrame`` has four nice features. We will use them one after another."
   ]
  },
  {
   "cell_type": "markdown",
   "metadata": {
    "collapsed": true
   },
   "source": [
    "### Subsetting DataFrame columns\n",
    "\n",
    "``subset`` lets you select some columns from the original ``DataFrame`` and returns a new ``DataFrame`` object:"
   ]
  },
  {
   "cell_type": "code",
   "execution_count": 9,
   "metadata": {
    "collapsed": false
   },
   "outputs": [
    {
     "name": "stdout",
     "output_type": "stream",
     "text": [
      "\n",
      "A dataframe\n",
      "\n",
      "target\n",
      "--------\n",
      "0\n",
      "0\n",
      "0\n",
      ".\n",
      ".\n",
      ".\n",
      "2\n",
      "2\n",
      "2\n"
     ]
    }
   ],
   "source": [
    "sub_frame = frame.subset(\"target\")\n",
    "print(sub_frame)"
   ]
  },
  {
   "cell_type": "markdown",
   "metadata": {},
   "source": [
    "### Aggregating DataFrame columns\n",
    "\n",
    "``aggregate`` takes one or multiple columns and computes an aggregation function. With the aggregated values a new ``DataFrame`` object is returned. **Beware** that your aggregation function returns a **scalar**, e.g. a ``float``. First we need to write a class that extends ``Callable`` and that overwrites ``__call__``. Some basic functions are already implemented. For the sake of illustration let's write a class that calculates the mean of a list:"
   ]
  },
  {
   "cell_type": "code",
   "execution_count": 10,
   "metadata": {
    "collapsed": true
   },
   "outputs": [],
   "source": [
    "from dataframe import Callable\n",
    "import numpy\n",
    "\n",
    "class Mean(Callable):\n",
    "    def __call__(self, *args):\n",
    "        vals = args[0].values\n",
    "        return numpy.mean(vals)"
   ]
  },
  {
   "cell_type": "markdown",
   "metadata": {},
   "source": [
    "Now you can aggregate the frame like this:"
   ]
  },
  {
   "cell_type": "code",
   "execution_count": 11,
   "metadata": {
    "collapsed": false
   },
   "outputs": [
    {
     "name": "stdout",
     "output_type": "stream",
     "text": [
      "\n",
      "A dataframe\n",
      "\n",
      "petallength    petalwidth    sepallength    sepalwidth    target\n",
      "-------------  ------------  -------------  ------------  --------\n",
      "1.4            0.2           5.1            3.5           0\n",
      "1.4            0.2           4.9            3.0           0\n",
      "1.3            0.2           4.7            3.2           0\n",
      ".              .             .              .             .\n",
      ".              .             .              .             .\n",
      ".              .             .              .             .\n",
      "5.2            2.0           6.5            3.0           2\n",
      "5.4            2.3           6.2            3.4           2\n",
      "5.1            1.8           5.9            3.0           2\n",
      "\n",
      "A dataframe\n",
      "\n",
      "   mean\n",
      "-------\n",
      "3.75867\n"
     ]
    }
   ],
   "source": [
    "print(frame)\n",
    "agg_frame = frame.aggregate(Mean, \"mean\", \"petallength\")\n",
    "print(agg_frame)"
   ]
  },
  {
   "cell_type": "markdown",
   "metadata": {},
   "source": [
    "Note that **all** other columns are discarded here, because the ``DataFrame`` cannot know what you want to do with them."
   ]
  },
  {
   "cell_type": "markdown",
   "metadata": {},
   "source": [
    "### Modifying DataFrame columns\n",
    "\n",
    "\n",
    "Similar to ``aggregate``, we can ``modify`` several columns, too. To do that, we again have to write a class extending ``Callable``. **Beware** that unlike in aggregation, modification requires to give a list of the **same size** as your original column length, i.e. your class has to return a **list** and not a scalar. For example:"
   ]
  },
  {
   "cell_type": "code",
   "execution_count": 12,
   "metadata": {
    "collapsed": false
   },
   "outputs": [
    {
     "name": "stdout",
     "output_type": "stream",
     "text": [
      "150\n"
     ]
    }
   ],
   "source": [
    "print(len(frame[\"target\"].values))"
   ]
  },
  {
   "cell_type": "markdown",
   "metadata": {},
   "source": [
    "So if we call ``modify`` on a column in our ``frame`` the result has to be of length ``150``. \n",
    "As an example let's standardize the column ``pentallength``."
   ]
  },
  {
   "cell_type": "code",
   "execution_count": 13,
   "metadata": {
    "collapsed": false
   },
   "outputs": [
    {
     "name": "stdout",
     "output_type": "stream",
     "text": [
      "\n",
      "A dataframe\n",
      "\n",
      "petallength    petalwidth    sepallength    sepalwidth    target    zscore\n",
      "-------------  ------------  -------------  ------------  --------  -------------------\n",
      "1.4            0.2           5.1            3.5           0         -1.3412724047598314\n",
      "1.4            0.2           4.9            3.0           0         -1.3412724047598314\n",
      "1.3            0.2           4.7            3.2           0         -1.3981381087490836\n",
      ".              .             .              .             .         .\n",
      ".              .             .              .             .         .\n",
      ".              .             .              .             .         .\n",
      "5.2            2.0           6.5            3.0           2         0.8196243468317573\n",
      "5.4            2.3           6.2            3.4           2         0.9333557548102621\n",
      "5.1            1.8           5.9            3.0           2         0.7627586428425047\n"
     ]
    }
   ],
   "source": [
    "import scipy.stats as sps\n",
    "\n",
    "class Zscore(Callable):\n",
    "    def __call__(self, *args):\n",
    "        vals = args[0].values\n",
    "        return sps.zscore(vals).tolist()\n",
    "    \n",
    "mod_frame = frame.modify(Zscore, \"zscore\", \"petallength\")\n",
    "print(mod_frame)"
   ]
  },
  {
   "cell_type": "markdown",
   "metadata": {},
   "source": [
    "I noticed that ``scipy`` calculates other values than when I standardize using ``R``. Maybe you have the same issue."
   ]
  },
  {
   "cell_type": "markdown",
   "metadata": {},
   "source": [
    "### Grouping the DataFrame\n",
    "\n",
    "Using ``group`` creates a new object from your ``DataFrame`` that puts single rows into groups, creating a ``GroupedDataFrame`` object."
   ]
  },
  {
   "cell_type": "code",
   "execution_count": 14,
   "metadata": {
    "collapsed": false
   },
   "outputs": [
    {
     "name": "stdout",
     "output_type": "stream",
     "text": [
      "\n",
      "A dataframe grouped by (target)\n",
      "\n",
      "petallength    petalwidth    sepallength    sepalwidth    target\n",
      "-------------  ------------  -------------  ------------  --------\n",
      "6.0            2.5           6.3            3.3           2\n",
      "5.1            1.9           5.8            2.7           2\n",
      "5.9            2.1           7.1            3.0           2\n",
      "5.6            1.8           6.3            2.9           2\n",
      "5.8            2.2           6.5            3.0           2\n",
      "---            ---           ---            ---           ---\n",
      "4.7            1.4           7.0            3.2           1\n",
      "4.5            1.5           6.4            3.2           1\n",
      "4.9            1.5           6.9            3.1           1\n",
      "4.0            1.3           5.5            2.3           1\n",
      "4.6            1.5           6.5            2.8           1\n"
     ]
    }
   ],
   "source": [
    "grouped_frame = frame.group(\"target\")\n",
    "print(grouped_frame)"
   ]
  },
  {
   "cell_type": "markdown",
   "metadata": {},
   "source": [
    "In the table to the top, we created several groups. Visually you can distinguish a ``DataFrame`` from a ``GroupedDataFrame`` by the **dashes** when printing. We'll discuss using the ``GroupedDataFrame`` class in the next section."
   ]
  },
  {
   "cell_type": "markdown",
   "metadata": {},
   "source": [
    "## Using the GroupedDataFrame class\n",
    "\n",
    "Basically ``GroupedDataFrame`` has the same features as ``DataFrame`` since both inherit from the same superclass ``ADataFrame``. So the routines do the same things, only on every **group** and not on the **whole** ``DataFrame`` object. We start out with a plain ``DataFrame`` and work through all the important methods. Since it is the same methods as in ``DataFrame`` I just show some examples."
   ]
  },
  {
   "cell_type": "markdown",
   "metadata": {},
   "source": [
    "### Subsetting GroupedDataFrame columns\n"
   ]
  },
  {
   "cell_type": "code",
   "execution_count": 15,
   "metadata": {
    "collapsed": false
   },
   "outputs": [
    {
     "name": "stdout",
     "output_type": "stream",
     "text": [
      "\n",
      "A dataframe grouped by (target)\n",
      "\n",
      "petallength    target\n",
      "-------------  --------\n",
      "6.0            2\n",
      "5.1            2\n",
      "5.9            2\n",
      "5.6            2\n",
      "5.8            2\n",
      "---            ---\n",
      "4.7            1\n",
      "4.5            1\n",
      "4.9            1\n",
      "4.0            1\n",
      "4.6            1\n"
     ]
    }
   ],
   "source": [
    "sub_grouped_frame = grouped_frame.subset(\"petallength\", \"target\")\n",
    "print(sub_grouped_frame)"
   ]
  },
  {
   "cell_type": "markdown",
   "metadata": {},
   "source": [
    "### Aggregating GroupedDataFrame columns\n"
   ]
  },
  {
   "cell_type": "code",
   "execution_count": 16,
   "metadata": {
    "collapsed": false
   },
   "outputs": [
    {
     "name": "stdout",
     "output_type": "stream",
     "text": [
      "\n",
      "A dataframe\n",
      "\n",
      "  mean    target\n",
      "------  --------\n",
      " 2.026         2\n",
      " 1.326         1\n",
      " 0.244         0\n"
     ]
    }
   ],
   "source": [
    "agg_grouped_frame = grouped_frame.aggregate(Mean, \"mean\", \"petalwidth\")\n",
    "print(agg_grouped_frame)"
   ]
  },
  {
   "cell_type": "markdown",
   "metadata": {},
   "source": [
    "### Modifying GroupedDataFrame columns"
   ]
  },
  {
   "cell_type": "code",
   "execution_count": 17,
   "metadata": {
    "collapsed": false,
    "scrolled": true
   },
   "outputs": [
    {
     "name": "stdout",
     "output_type": "stream",
     "text": [
      "\n",
      "A dataframe grouped by (target)\n",
      "\n",
      "petallength    petalwidth    sepallength    sepalwidth    target    zscore\n",
      "-------------  ------------  -------------  ------------  --------  -------------------\n",
      "6.0            2.5           6.3            3.3           2         0.8199903777203909\n",
      "5.1            1.9           5.8            2.7           2         -0.8273117203786111\n",
      "5.9            2.1           7.1            3.0           2         0.636956811264947\n",
      "5.6            1.8           6.3            2.9           2         0.08785611189861185\n",
      "5.8            2.2           6.5            3.0           2         0.45392324480950136\n",
      "---            ---           ---            ---           ---       ---\n",
      "4.7            1.4           7.0            3.2           1         0.9458538768631659\n",
      "4.5            1.5           6.4            3.2           1         0.5159202964708177\n",
      "4.9            1.5           6.9            3.1           1         1.375787457255514\n",
      "4.0            1.3           5.5            2.3           1         -0.5589136545100516\n",
      "4.6            1.5           6.5            2.8           1         0.7308870866669909\n"
     ]
    }
   ],
   "source": [
    "mod_grouped_frame = grouped_frame.modify(Zscore, \"zscore\", \"petallength\")\n",
    "print(mod_grouped_frame)"
   ]
  },
  {
   "cell_type": "markdown",
   "metadata": {},
   "source": [
    "### Grouping GroupedDataFrame columns\n"
   ]
  },
  {
   "cell_type": "code",
   "execution_count": 18,
   "metadata": {
    "collapsed": false,
    "scrolled": true
   },
   "outputs": [
    {
     "name": "stdout",
     "output_type": "stream",
     "text": [
      "\n",
      "A dataframe grouped by (petallength, target)\n",
      "\n",
      "petallength    petalwidth    sepallength    sepalwidth    target\n",
      "-------------  ------------  -------------  ------------  --------\n",
      "6.0            2.5           6.3            3.3           2\n",
      "6.0            1.8           7.2            3.2           2\n",
      "---            ---           ---            ---           ---\n",
      "5.3            1.9           6.4            2.7           2\n",
      "5.3            2.3           6.4            3.2           2\n"
     ]
    }
   ],
   "source": [
    "twice_grouped_frame = grouped_frame.group(\"petallength\")\n",
    "print(twice_grouped_frame)"
   ]
  },
  {
   "cell_type": "markdown",
   "metadata": {},
   "source": [
    "## Piping\n",
    "\n",
    "One of the many great features of the `unix`-commandline is method piping. For example\n",
    "\n",
    "```bash\n",
    "  grep -i \"^daemon\" /etc/passwd | sed 's/:/ /g' | cut -f1 -d' ' | tr -s 'dae' 'si'\n",
    "```\n",
    "\n",
    "(This is rather inefficient, but for the sake of demostration it works). In order for `python` to support this, we overloaded the `>>` operator such that instead of calling\n",
    "\n",
    "```python\n",
    "   frame.method(*args)\n",
    "```\n",
    "\n",
    "you can alternatively call a method like this now\n",
    "\n",
    "```python\n",
    "   method(frame, *args)\n",
    "```\n",
    "This sofar only works for the four main methods for dataframes (`subset`, ...). In the following are a few examples."
   ]
  },
  {
   "cell_type": "markdown",
   "metadata": {
    "collapsed": true
   },
   "source": [
    "### Using the pipe operator\n",
    "\n",
    "We start with the frame we initialized earlier:"
   ]
  },
  {
   "cell_type": "code",
   "execution_count": 19,
   "metadata": {
    "collapsed": false
   },
   "outputs": [
    {
     "name": "stdout",
     "output_type": "stream",
     "text": [
      "\n",
      "A dataframe\n",
      "\n",
      "petallength    petalwidth    sepallength    sepalwidth    target\n",
      "-------------  ------------  -------------  ------------  --------\n",
      "1.4            0.2           5.1            3.5           0\n",
      "1.4            0.2           4.9            3.0           0\n",
      "1.3            0.2           4.7            3.2           0\n",
      ".              .             .              .             .\n",
      ".              .             .              .             .\n",
      ".              .             .              .             .\n",
      "5.2            2.0           6.5            3.0           2\n",
      "5.4            2.3           6.2            3.4           2\n",
      "5.1            1.8           5.9            3.0           2\n"
     ]
    }
   ],
   "source": [
    "print(frame)"
   ]
  },
  {
   "cell_type": "markdown",
   "metadata": {},
   "source": [
    "`>>` is implemented for the four dataframe methods `group`, `subset`, `aggregate` and `modify`. Let's first just subset the `frame`."
   ]
  },
  {
   "cell_type": "code",
   "execution_count": 20,
   "metadata": {
    "collapsed": false
   },
   "outputs": [
    {
     "name": "stdout",
     "output_type": "stream",
     "text": [
      "\n",
      "A dataframe\n",
      "\n",
      "target\n",
      "--------\n",
      "0\n",
      "0\n",
      "0\n",
      ".\n",
      ".\n",
      ".\n",
      "2\n",
      "2\n",
      "2\n"
     ]
    }
   ],
   "source": [
    "from dataframe import group, modify, subset, aggregate\n",
    "\n",
    "obj = frame >> subset(\"target\")\n",
    "print(obj)"
   ]
  },
  {
   "cell_type": "markdown",
   "metadata": {},
   "source": [
    "Or you can directly put it into the method."
   ]
  },
  {
   "cell_type": "code",
   "execution_count": 21,
   "metadata": {
    "collapsed": false
   },
   "outputs": [
    {
     "name": "stdout",
     "output_type": "stream",
     "text": [
      "\n",
      "A dataframe\n",
      "\n",
      "target\n",
      "--------\n",
      "0\n",
      "0\n",
      "0\n",
      ".\n",
      ".\n",
      ".\n",
      "2\n",
      "2\n",
      "2\n"
     ]
    }
   ],
   "source": [
    "obj = subset(frame, \"target\")\n",
    "print(obj)"
   ]
  },
  {
   "cell_type": "markdown",
   "metadata": {},
   "source": [
    "Of course we can chain multiple times, too. Here we first group the data by the `target` column and the aggregate the groups using the `mean`:"
   ]
  },
  {
   "cell_type": "code",
   "execution_count": 22,
   "metadata": {
    "collapsed": false
   },
   "outputs": [
    {
     "name": "stdout",
     "output_type": "stream",
     "text": [
      "\n",
      "A dataframe\n",
      "\n",
      "    m    target\n",
      "-----  --------\n",
      "6.588         2\n",
      "5.936         1\n",
      "5.006         0\n"
     ]
    }
   ],
   "source": [
    "obj = frame >> \\\n",
    "      group(\"target\") >> \\\n",
    "      aggregate(Mean, \"m\", \"sepallength\")\n",
    "print(obj)"
   ]
  },
  {
   "cell_type": "markdown",
   "metadata": {},
   "source": [
    "Group the data again and then modify it by taking *Z-scores*:"
   ]
  },
  {
   "cell_type": "code",
   "execution_count": 23,
   "metadata": {
    "collapsed": false
   },
   "outputs": [
    {
     "name": "stdout",
     "output_type": "stream",
     "text": [
      "\n",
      "A dataframe grouped by (target)\n",
      "\n",
      "petallength    petalwidth    sepallength    sepalwidth    target    zs\n",
      "-------------  ------------  -------------  ------------  --------  --------------------\n",
      "6.0            2.5           6.3            3.3           2         1.7433541202378822\n",
      "5.1            1.9           5.8            2.7           2         -0.4634232471518436\n",
      "5.9            2.1           7.1            3.0           2         0.2721692086447322\n",
      "5.6            1.8           6.3            2.9           2         -0.8312194750501306\n",
      "5.8            2.2           6.5            3.0           2         0.6399654365430201\n",
      "---            ---           ---            ---           ---       ---\n",
      "4.7            1.4           7.0            3.2           1         0.37800392032687496\n",
      "4.5            1.5           6.4            3.2           1         0.8888200288767061\n",
      "4.9            1.5           6.9            3.1           1         0.8888200288767061\n",
      "4.0            1.3           5.5            2.3           1         -0.13281218822295493\n",
      "4.6            1.5           6.5            2.8           1         0.8888200288767061\n"
     ]
    }
   ],
   "source": [
    "obj = frame >> \\\n",
    "      group(\"target\") >> \\\n",
    "      modify(Zscore, \"zs\", \"petalwidth\")\n",
    "print(obj)"
   ]
  },
  {
   "cell_type": "markdown",
   "metadata": {},
   "source": [
    "Finally a last example using all the methods:"
   ]
  },
  {
   "cell_type": "code",
   "execution_count": 24,
   "metadata": {
    "collapsed": false
   },
   "outputs": [
    {
     "name": "stdout",
     "output_type": "stream",
     "text": [
      "\n",
      "A dataframe\n",
      "\n",
      "           m    target\n",
      "------------  --------\n",
      "-9.30367e-16         2\n",
      " 8.30447e-16         1\n",
      " 1.19904e-16         0\n"
     ]
    }
   ],
   "source": [
    "obj = frame >> \\\n",
    "      subset(\"target\", \"petalwidth\") >> \\\n",
    "      group(\"target\") >> \\\n",
    "      modify(Zscore, \"zs\", \"petalwidth\") >> \\\n",
    "      aggregate(Mean, \"m\", \"zs\")\n",
    "print(obj)"
   ]
  }
 ],
 "metadata": {
  "kernelspec": {
   "display_name": "Python 3",
   "language": "python",
   "name": "python3"
  },
  "language_info": {
   "codemirror_mode": {
    "name": "ipython",
    "version": 3
   },
   "file_extension": ".py",
   "mimetype": "text/x-python",
   "name": "python",
   "nbconvert_exporter": "python",
   "pygments_lexer": "ipython3",
   "version": "3.5.2"
  }
 },
 "nbformat": 4,
 "nbformat_minor": 1
}
