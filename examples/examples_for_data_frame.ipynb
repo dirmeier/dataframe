{
 "cells": [
  {
   "cell_type": "markdown",
   "metadata": {
    "collapsed": true
   },
   "source": [
    "# DataFrame tutorial\n",
    "\n",
    "This is a short tutorial with examples for the ``dataframe`` library.\n"
   ]
  },
  {
   "cell_type": "markdown",
   "metadata": {},
   "source": [
    "## Creating a DataFrame object\n",
    "\n",
    "If we want to use ``dataframe``, we first import the two central classes:"
   ]
  },
  {
   "cell_type": "code",
   "execution_count": 1,
   "metadata": {
    "collapsed": true
   },
   "outputs": [],
   "source": [
    "from dataframe import DataFrame\n",
    "from dataframe import GroupedDataFrame"
   ]
  },
  {
   "cell_type": "markdown",
   "metadata": {},
   "source": [
    "For demonstration purposes we also include some datasets (and ``regex`` for parsing):"
   ]
  },
  {
   "cell_type": "code",
   "execution_count": 2,
   "metadata": {
    "collapsed": false
   },
   "outputs": [],
   "source": [
    "from sklearn import datasets\n",
    "import re\n",
    "iris_data = datasets.load_iris()"
   ]
  },
  {
   "cell_type": "markdown",
   "metadata": {},
   "source": [
    "This will load all the data from ``sklearn``. In particular we use the iris dataset, which goes back to Ronald Fisher I think. From the iris dataset, we take the feature names and covariables for each feature and put it into a dictionary."
   ]
  },
  {
   "cell_type": "code",
   "execution_count": 3,
   "metadata": {
    "collapsed": false
   },
   "outputs": [
    {
     "name": "stdout",
     "output_type": "stream",
     "text": [
      "['sepallength', 'sepalwidth', 'petallength', 'petalwidth']\n"
     ]
    }
   ],
   "source": [
    "features = [re.sub(\"\\s|cm|\\(|\\)\", \"\", x) for x in iris_data.feature_names] \n",
    "print(features)"
   ]
  },
  {
   "cell_type": "code",
   "execution_count": 4,
   "metadata": {
    "collapsed": false
   },
   "outputs": [],
   "source": [
    "data = {features[i]: iris_data.data[:,i] for i in range(len(iris_data.data[1,:]))}"
   ]
  },
  {
   "cell_type": "markdown",
   "metadata": {},
   "source": [
    "We also add the species of each sample:"
   ]
  },
  {
   "cell_type": "code",
   "execution_count": 5,
   "metadata": {
    "collapsed": true
   },
   "outputs": [],
   "source": [
    "data[\"target\"] = iris_data.target"
   ]
  },
  {
   "cell_type": "markdown",
   "metadata": {},
   "source": [
    "Now we can take the dictionary to create a ``DataFrame`` object by using:"
   ]
  },
  {
   "cell_type": "code",
   "execution_count": 6,
   "metadata": {
    "collapsed": false
   },
   "outputs": [],
   "source": [
    "frame = DataFrame(**data)"
   ]
  },
  {
   "cell_type": "markdown",
   "metadata": {},
   "source": [
    "Notice that we use the ``**kwargs`` syntax to give keyword arguments to the constructor. Alternatively you can just call the constructor like this:"
   ]
  },
  {
   "cell_type": "code",
   "execution_count": 7,
   "metadata": {
    "collapsed": false
   },
   "outputs": [],
   "source": [
    "frame_expl = DataFrame(sepallength=iris_data.data[:,0],\n",
    "                       sepalwidth=iris_data.data[:,1],\n",
    "                       petallength=iris_data.data[:,2],\n",
    "                       petalwidth=iris_data.data[:,3],\n",
    "                       target=iris_data.target)"
   ]
  },
  {
   "cell_type": "markdown",
   "metadata": {},
   "source": [
    "The results are the same, only that the second approach is more verbose and we have to enter the arguments manually."
   ]
  },
  {
   "cell_type": "code",
   "execution_count": 8,
   "metadata": {
    "collapsed": false,
    "scrolled": true
   },
   "outputs": [
    {
     "name": "stdout",
     "output_type": "stream",
     "text": [
      "Frame kwargs:\n",
      "A dataframe\n",
      "\n",
      "+-------------+------------+-------------+------------+--------+\n",
      "| petallength | petalwidth | sepallength | sepalwidth | target |\n",
      "+-------------+------------+-------------+------------+--------+\n",
      "|     1.4     |    0.2     |     5.1     |    3.5     |   0    |\n",
      "|     1.4     |    0.2     |     4.9     |    3.0     |   0    |\n",
      "|     1.3     |    0.2     |     4.7     |    3.2     |   0    |\n",
      "|      .      |     .      |      .      |     .      |   .    |\n",
      "|      .      |     .      |      .      |     .      |   .    |\n",
      "|      .      |     .      |      .      |     .      |   .    |\n",
      "|     5.2     |    2.0     |     6.5     |    3.0     |   2    |\n",
      "|     5.4     |    2.3     |     6.2     |    3.4     |   2    |\n",
      "|     5.1     |    1.8     |     5.9     |    3.0     |   2    |\n",
      "+-------------+------------+-------------+------------+--------+\n",
      "Frame verbose:\n",
      "A dataframe\n",
      "\n",
      "+-------------+------------+-------------+------------+--------+\n",
      "| petallength | petalwidth | sepallength | sepalwidth | target |\n",
      "+-------------+------------+-------------+------------+--------+\n",
      "|     1.4     |    0.2     |     5.1     |    3.5     |   0    |\n",
      "|     1.4     |    0.2     |     4.9     |    3.0     |   0    |\n",
      "|     1.3     |    0.2     |     4.7     |    3.2     |   0    |\n",
      "|      .      |     .      |      .      |     .      |   .    |\n",
      "|      .      |     .      |      .      |     .      |   .    |\n",
      "|      .      |     .      |      .      |     .      |   .    |\n",
      "|     5.2     |    2.0     |     6.5     |    3.0     |   2    |\n",
      "|     5.4     |    2.3     |     6.2     |    3.4     |   2    |\n",
      "|     5.1     |    1.8     |     5.9     |    3.0     |   2    |\n",
      "+-------------+------------+-------------+------------+--------+\n"
     ]
    }
   ],
   "source": [
    "print(\"Frame kwargs:\")\n",
    "print(frame)\n",
    "print(\"Frame verbose:\")\n",
    "print(frame_expl)"
   ]
  },
  {
   "cell_type": "markdown",
   "metadata": {},
   "source": [
    "Note that upon instantiation the column names are sorted alphabetically. "
   ]
  },
  {
   "cell_type": "markdown",
   "metadata": {
    "collapsed": true
   },
   "source": [
    "## Using the DataFrame class\n",
    "\n",
    "Basically ``DataFrame`` has four nice features. We will use them one after another."
   ]
  },
  {
   "cell_type": "markdown",
   "metadata": {
    "collapsed": true
   },
   "source": [
    "### Subsetting DataFrame columns\n",
    "\n",
    "``subset`` lets you select some columns from the original ``DataFrame`` and returns a new ``DataFrame`` object:"
   ]
  },
  {
   "cell_type": "code",
   "execution_count": 9,
   "metadata": {
    "collapsed": false
   },
   "outputs": [
    {
     "name": "stdout",
     "output_type": "stream",
     "text": [
      "A dataframe\n",
      "\n",
      "+--------+\n",
      "| target |\n",
      "+--------+\n",
      "|   0    |\n",
      "|   0    |\n",
      "|   0    |\n",
      "|   .    |\n",
      "|   .    |\n",
      "|   .    |\n",
      "|   2    |\n",
      "|   2    |\n",
      "|   2    |\n",
      "+--------+\n"
     ]
    }
   ],
   "source": [
    "sub_frame = frame.subset(\"target\")\n",
    "print(sub_frame)"
   ]
  },
  {
   "cell_type": "markdown",
   "metadata": {},
   "source": [
    "### Aggregating DataFrame columns\n",
    "\n",
    "``aggregate`` takes one or multiple columns and computes an aggregation function. With the aggregated values a new ``DataFrame`` object is returned. **Beware** that your aggregation function returns a **scalar**, e.g. a ``float``. First we need to write a class that extends ``Callable`` and that overwrites ``__call__``. Some basic functions are already implemented. For the sake of illustration let's write a class that calculates the mean of a list:"
   ]
  },
  {
   "cell_type": "code",
   "execution_count": 10,
   "metadata": {
    "collapsed": true
   },
   "outputs": [],
   "source": [
    "from dataframe import Callable\n",
    "import numpy\n",
    "\n",
    "class Mean(Callable):\n",
    "    def __call__(self, *args):\n",
    "        vals = args[0].values()\n",
    "        return numpy.mean(vals)"
   ]
  },
  {
   "cell_type": "markdown",
   "metadata": {},
   "source": [
    "Now you can aggregate the frame like this:"
   ]
  },
  {
   "cell_type": "code",
   "execution_count": 15,
   "metadata": {
    "collapsed": false
   },
   "outputs": [
    {
     "name": "stdout",
     "output_type": "stream",
     "text": [
      "A dataframe\n",
      "\n",
      "+-------------+------------+-------------+------------+--------+\n",
      "| petallength | petalwidth | sepallength | sepalwidth | target |\n",
      "+-------------+------------+-------------+------------+--------+\n",
      "|     1.4     |    0.2     |     5.1     |    3.5     |   0    |\n",
      "|     1.4     |    0.2     |     4.9     |    3.0     |   0    |\n",
      "|     1.3     |    0.2     |     4.7     |    3.2     |   0    |\n",
      "|      .      |     .      |      .      |     .      |   .    |\n",
      "|      .      |     .      |      .      |     .      |   .    |\n",
      "|      .      |     .      |      .      |     .      |   .    |\n",
      "|     5.2     |    2.0     |     6.5     |    3.0     |   2    |\n",
      "|     5.4     |    2.3     |     6.2     |    3.4     |   2    |\n",
      "|     5.1     |    1.8     |     5.9     |    3.0     |   2    |\n",
      "+-------------+------------+-------------+------------+--------+\n"
     ]
    },
    {
     "ename": "TypeError",
     "evalue": "'numpy.ndarray' object is not callable",
     "output_type": "error",
     "traceback": [
      "\u001b[0;31m---------------------------------------------------------------------------\u001b[0m",
      "\u001b[0;31mTypeError\u001b[0m                                 Traceback (most recent call last)",
      "\u001b[0;32m<ipython-input-15-7f80b4d33c2d>\u001b[0m in \u001b[0;36m<module>\u001b[0;34m()\u001b[0m\n\u001b[1;32m      1\u001b[0m \u001b[0mprint\u001b[0m\u001b[0;34m(\u001b[0m\u001b[0mframe\u001b[0m\u001b[0;34m)\u001b[0m\u001b[0;34m\u001b[0m\u001b[0m\n\u001b[0;32m----> 2\u001b[0;31m \u001b[0magg_frame\u001b[0m \u001b[0;34m=\u001b[0m \u001b[0mframe\u001b[0m\u001b[0;34m.\u001b[0m\u001b[0maggregate\u001b[0m\u001b[0;34m(\u001b[0m\u001b[0mMean\u001b[0m\u001b[0;34m,\u001b[0m \u001b[0;34m\"mean\"\u001b[0m\u001b[0;34m,\u001b[0m \u001b[0;34m\"petallength\"\u001b[0m\u001b[0;34m)\u001b[0m\u001b[0;34m\u001b[0m\u001b[0m\n\u001b[0m\u001b[1;32m      3\u001b[0m \u001b[0mprint\u001b[0m\u001b[0;34m(\u001b[0m\u001b[0magg_frame\u001b[0m\u001b[0;34m)\u001b[0m\u001b[0;34m\u001b[0m\u001b[0m\n",
      "\u001b[0;32m/Users/simondi/PROJECTS/pytab_project/dataframe/dataframe.py\u001b[0m in \u001b[0;36maggregate\u001b[0;34m(self, clazz, new_col, *args)\u001b[0m\n\u001b[1;32m    116\u001b[0m         \"\"\"\n\u001b[1;32m    117\u001b[0m         \u001b[0;32mif\u001b[0m \u001b[0mis_callable\u001b[0m\u001b[0;34m(\u001b[0m\u001b[0mclazz\u001b[0m\u001b[0;34m)\u001b[0m \u001b[0;32mand\u001b[0m \u001b[0;32mnot\u001b[0m \u001b[0mis_none\u001b[0m\u001b[0;34m(\u001b[0m\u001b[0mnew_col\u001b[0m\u001b[0;34m)\u001b[0m \u001b[0;32mand\u001b[0m \u001b[0mhas_elements\u001b[0m\u001b[0;34m(\u001b[0m\u001b[0;34m*\u001b[0m\u001b[0margs\u001b[0m\u001b[0;34m)\u001b[0m\u001b[0;34m:\u001b[0m\u001b[0;34m\u001b[0m\u001b[0m\n\u001b[0;32m--> 118\u001b[0;31m             \u001b[0;32mreturn\u001b[0m \u001b[0mself\u001b[0m\u001b[0;34m.\u001b[0m\u001b[0m__do_aggregate\u001b[0m\u001b[0;34m(\u001b[0m\u001b[0mclazz\u001b[0m\u001b[0;34m,\u001b[0m \u001b[0mnew_col\u001b[0m\u001b[0;34m,\u001b[0m \u001b[0;34m*\u001b[0m\u001b[0margs\u001b[0m\u001b[0;34m)\u001b[0m\u001b[0;34m\u001b[0m\u001b[0m\n\u001b[0m\u001b[1;32m    119\u001b[0m \u001b[0;34m\u001b[0m\u001b[0m\n\u001b[1;32m    120\u001b[0m     \u001b[0;32mdef\u001b[0m \u001b[0m__do_aggregate\u001b[0m\u001b[0;34m(\u001b[0m\u001b[0mself\u001b[0m\u001b[0;34m,\u001b[0m \u001b[0mclazz\u001b[0m\u001b[0;34m,\u001b[0m \u001b[0mnew_col\u001b[0m\u001b[0;34m,\u001b[0m \u001b[0;34m*\u001b[0m\u001b[0mcol_names\u001b[0m\u001b[0;34m)\u001b[0m\u001b[0;34m:\u001b[0m\u001b[0;34m\u001b[0m\u001b[0m\n",
      "\u001b[0;32m/Users/simondi/PROJECTS/pytab_project/dataframe/dataframe.py\u001b[0m in \u001b[0;36m__do_aggregate\u001b[0;34m(self, clazz, new_col, *col_names)\u001b[0m\n\u001b[1;32m    124\u001b[0m             \u001b[0;32mreturn\u001b[0m \u001b[0;32mNone\u001b[0m\u001b[0;34m\u001b[0m\u001b[0m\n\u001b[1;32m    125\u001b[0m         \u001b[0;31m# instantiate class and call\u001b[0m\u001b[0;34m\u001b[0m\u001b[0;34m\u001b[0m\u001b[0m\n\u001b[0;32m--> 126\u001b[0;31m         \u001b[0mres\u001b[0m \u001b[0;34m=\u001b[0m \u001b[0;34m[\u001b[0m\u001b[0mclazz\u001b[0m\u001b[0;34m(\u001b[0m\u001b[0;34m)\u001b[0m\u001b[0;34m(\u001b[0m\u001b[0;34m*\u001b[0m\u001b[0mcolvals\u001b[0m\u001b[0;34m)\u001b[0m\u001b[0;34m]\u001b[0m\u001b[0;34m\u001b[0m\u001b[0m\n\u001b[0m\u001b[1;32m    127\u001b[0m         \u001b[0;32mif\u001b[0m \u001b[0mlen\u001b[0m\u001b[0;34m(\u001b[0m\u001b[0mres\u001b[0m\u001b[0;34m)\u001b[0m \u001b[0;34m!=\u001b[0m \u001b[0;36m1\u001b[0m\u001b[0;34m:\u001b[0m\u001b[0;34m\u001b[0m\u001b[0m\n\u001b[1;32m    128\u001b[0m             raise ValueError(\"The function you provided \" +\n",
      "\u001b[0;32m<ipython-input-10-3c60b9da9eba>\u001b[0m in \u001b[0;36m__call__\u001b[0;34m(self, *args)\u001b[0m\n\u001b[1;32m      4\u001b[0m \u001b[0;32mclass\u001b[0m \u001b[0mMean\u001b[0m\u001b[0;34m(\u001b[0m\u001b[0mCallable\u001b[0m\u001b[0;34m)\u001b[0m\u001b[0;34m:\u001b[0m\u001b[0;34m\u001b[0m\u001b[0m\n\u001b[1;32m      5\u001b[0m     \u001b[0;32mdef\u001b[0m \u001b[0m__call__\u001b[0m\u001b[0;34m(\u001b[0m\u001b[0mself\u001b[0m\u001b[0;34m,\u001b[0m \u001b[0;34m*\u001b[0m\u001b[0margs\u001b[0m\u001b[0;34m)\u001b[0m\u001b[0;34m:\u001b[0m\u001b[0;34m\u001b[0m\u001b[0m\n\u001b[0;32m----> 6\u001b[0;31m         \u001b[0mvals\u001b[0m \u001b[0;34m=\u001b[0m \u001b[0margs\u001b[0m\u001b[0;34m[\u001b[0m\u001b[0;36m0\u001b[0m\u001b[0;34m]\u001b[0m\u001b[0;34m.\u001b[0m\u001b[0mvalues\u001b[0m\u001b[0;34m(\u001b[0m\u001b[0;34m)\u001b[0m\u001b[0;34m\u001b[0m\u001b[0m\n\u001b[0m\u001b[1;32m      7\u001b[0m         \u001b[0;32mreturn\u001b[0m \u001b[0mnumpy\u001b[0m\u001b[0;34m.\u001b[0m\u001b[0mmean\u001b[0m\u001b[0;34m(\u001b[0m\u001b[0mvals\u001b[0m\u001b[0;34m)\u001b[0m\u001b[0;34m\u001b[0m\u001b[0m\n",
      "\u001b[0;31mTypeError\u001b[0m: 'numpy.ndarray' object is not callable"
     ]
    }
   ],
   "source": [
    "print(frame)\n",
    "agg_frame = frame.aggregate(Mean, \"mean\", \"petallength\")\n",
    "print(agg_frame)"
   ]
  },
  {
   "cell_type": "markdown",
   "metadata": {},
   "source": [
    "Note that **all** other columns are discarded here, because the ``DataFrame`` cannot know what you want to do with them."
   ]
  },
  {
   "cell_type": "markdown",
   "metadata": {},
   "source": [
    "### Modifying DataFrame columns\n",
    "\n",
    "\n",
    "Similar to ``aggregate``, we can ``modify`` several columns, too. To do that, we again have to write a class extending ``Callable``. **Beware** that unlike in aggregation, modification requires to give a list of the **same size** as your original column length, i.e. your class has to return a **list** and not a scalar. For example:"
   ]
  },
  {
   "cell_type": "code",
   "execution_count": null,
   "metadata": {
    "collapsed": false
   },
   "outputs": [],
   "source": [
    "print(len(frame[\"target\"].values()))"
   ]
  },
  {
   "cell_type": "markdown",
   "metadata": {},
   "source": [
    "So if we call ``modify`` on a column in our ``frame`` the result has to be of length ``150``. \n",
    "As an example let's standardize the column ``pentallength``."
   ]
  },
  {
   "cell_type": "code",
   "execution_count": null,
   "metadata": {
    "collapsed": false
   },
   "outputs": [],
   "source": [
    "import scipy.stats as sps\n",
    "\n",
    "class Zscore(Callable):\n",
    "    def __call__(self, *args):\n",
    "        vals = args[0].values()\n",
    "        return sps.zscore(vals).tolist()\n",
    "    \n",
    "mod_frame = frame.modify(Zscore, \"zscore\", \"petallength\")\n",
    "print(mod_frame)"
   ]
  },
  {
   "cell_type": "markdown",
   "metadata": {},
   "source": [
    "I noticed that ``scipy`` calculates other values than when I standardize using ``R``. Maybe you have the same issue."
   ]
  },
  {
   "cell_type": "markdown",
   "metadata": {},
   "source": [
    "### Grouping the DataFrame\n",
    "\n",
    "Using ``group`` creates a new object from your ``DataFrame`` that puts single rows into groups, creating a ``GroupedDataFrame`` object."
   ]
  },
  {
   "cell_type": "code",
   "execution_count": null,
   "metadata": {
    "collapsed": false
   },
   "outputs": [],
   "source": [
    "grouped_frame = frame.group(\"target\")\n",
    "print(grouped_frame)"
   ]
  },
  {
   "cell_type": "markdown",
   "metadata": {},
   "source": [
    "In the table to the top, we created several groups. Visually you can distinguish a ``DataFrame`` from a ``GroupedDataFrame`` by the **dashes** when printing. We'll discuss using the ``GroupedDataFrame`` class in the next section."
   ]
  },
  {
   "cell_type": "markdown",
   "metadata": {},
   "source": [
    "## Using the GroupedDataFrame class\n",
    "\n",
    "Basically ``GroupedDataFrame`` has the same features as ``DataFrame`` since both inherit from the same superclass ``ADataFrame``. So the routines do the same things, only on every **group** and not on the **whole** ``DataFrame`` object. We start out with a plain ``DataFrame`` and work through all the important methods. Since it is the same methods as in ``DataFrame`` I just show some examples."
   ]
  },
  {
   "cell_type": "markdown",
   "metadata": {},
   "source": [
    "### Subsetting GroupedDataFrame columns\n"
   ]
  },
  {
   "cell_type": "code",
   "execution_count": null,
   "metadata": {
    "collapsed": false
   },
   "outputs": [],
   "source": [
    "sub_grouped_frame = grouped_frame.subset(\"petallength\", \"target\")\n",
    "print(sub_grouped_frame)"
   ]
  },
  {
   "cell_type": "markdown",
   "metadata": {},
   "source": [
    "### Aggregating GroupedDataFrame columns\n"
   ]
  },
  {
   "cell_type": "code",
   "execution_count": null,
   "metadata": {
    "collapsed": false
   },
   "outputs": [],
   "source": [
    "agg_grouped_frame = grouped_frame.aggregate(Mean, \"mean\", \"petalwidth\")\n",
    "print(agg_grouped_frame)"
   ]
  },
  {
   "cell_type": "markdown",
   "metadata": {},
   "source": [
    "### Modifying GroupedDataFrame columns"
   ]
  },
  {
   "cell_type": "code",
   "execution_count": null,
   "metadata": {
    "collapsed": false,
    "scrolled": true
   },
   "outputs": [],
   "source": [
    "mod_grouped_frame = grouped_frame.modify(Zscore, \"zscore\", \"petallength\")\n",
    "print(mod_grouped_frame)"
   ]
  },
  {
   "cell_type": "markdown",
   "metadata": {},
   "source": [
    "### Grouping GroupedDataFrame columns\n"
   ]
  },
  {
   "cell_type": "code",
   "execution_count": null,
   "metadata": {
    "collapsed": false,
    "scrolled": true
   },
   "outputs": [],
   "source": [
    "twice_grouped_frame = grouped_frame.group(\"petallength\")\n",
    "print(twice_grouped_frame)"
   ]
  },
  {
   "cell_type": "markdown",
   "metadata": {},
   "source": [
    "## Pipeing"
   ]
  },
  {
   "cell_type": "code",
   "execution_count": null,
   "metadata": {
    "collapsed": true
   },
   "outputs": [],
   "source": []
  }
 ],
 "metadata": {
  "kernelspec": {
   "display_name": "Python 3",
   "language": "python",
   "name": "python3"
  },
  "language_info": {
   "codemirror_mode": {
    "name": "ipython",
    "version": 3
   },
   "file_extension": ".py",
   "mimetype": "text/x-python",
   "name": "python",
   "nbconvert_exporter": "python",
   "pygments_lexer": "ipython3",
   "version": "3.5.2"
  }
 },
 "nbformat": 4,
 "nbformat_minor": 1
}
