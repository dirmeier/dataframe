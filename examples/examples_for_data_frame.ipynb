{
 "cells": [
  {
   "cell_type": "markdown",
   "metadata": {
    "collapsed": true
   },
   "source": [
    "# DataFrame tutorial\n",
    "\n",
    "This is a short tutorial with examples for the ``dataframe`` library.\n"
   ]
  },
  {
   "cell_type": "markdown",
   "metadata": {},
   "source": [
    "## Creating a DataFrame object\n",
    "\n",
    "If you want to use data frames, first import it. For demonstration purposes we also include some datasets:"
   ]
  },
  {
   "cell_type": "code",
   "execution_count": 21,
   "metadata": {
    "collapsed": false
   },
   "outputs": [],
   "source": [
    "from dataframe import DataFrame\n",
    "from dataframe import GroupedDataFrame\n",
    "from sklearn import datasets\n",
    "import re\n",
    "iris_data = datasets.load_iris()"
   ]
  },
  {
   "cell_type": "markdown",
   "metadata": {},
   "source": [
    "This will load all the data from ``sklearn``. In particular we use the iris dataset, which goes back to Ronald Fisher I think. From the iris dataset, we take the feature names and covariables for each feature and put it into a dictionary."
   ]
  },
  {
   "cell_type": "code",
   "execution_count": 22,
   "metadata": {
    "collapsed": false
   },
   "outputs": [
    {
     "name": "stdout",
     "output_type": "stream",
     "text": [
      "['sepallength', 'sepalwidth', 'petallength', 'petalwidth']\n"
     ]
    }
   ],
   "source": [
    "features = [re.sub(\"\\s|cm|\\(|\\)\", \"\", x) for x in iris_data.feature_names] \n",
    "print(features)"
   ]
  },
  {
   "cell_type": "code",
   "execution_count": 23,
   "metadata": {
    "collapsed": false
   },
   "outputs": [],
   "source": [
    "data = { features[i]: iris_data.data[:,i] for i in range(len(iris_data.data[1,:])) }\n",
    "data[\"target\"] = iris_data.target"
   ]
  },
  {
   "cell_type": "markdown",
   "metadata": {},
   "source": [
    "We can take the dictionary to create a ``DataFrame`` object out of it using:"
   ]
  },
  {
   "cell_type": "code",
   "execution_count": 24,
   "metadata": {
    "collapsed": false
   },
   "outputs": [],
   "source": [
    "frame = DataFrame(**data)"
   ]
  },
  {
   "cell_type": "markdown",
   "metadata": {},
   "source": [
    "Notice that we use the ``**kwargs`` syntax to give a ``dict()`` to the constructor. Alternatively you can just call the constructor like this:"
   ]
  },
  {
   "cell_type": "code",
   "execution_count": 25,
   "metadata": {
    "collapsed": false
   },
   "outputs": [],
   "source": [
    "frame_expl = DataFrame(sepallength=iris_data.data[:,0],\n",
    "                       sepalwidth=iris_data.data[:,1],\n",
    "                       petallength=iris_data.data[:,2],\n",
    "                       petalwidth=iris_data.data[:,3],\n",
    "                       target=iris_data.target)"
   ]
  },
  {
   "cell_type": "markdown",
   "metadata": {},
   "source": [
    "The results are the same, only that the second approach is more verbose and we have to enter the arguments manually."
   ]
  },
  {
   "cell_type": "code",
   "execution_count": 26,
   "metadata": {
    "collapsed": false,
    "scrolled": true
   },
   "outputs": [
    {
     "name": "stdout",
     "output_type": "stream",
     "text": [
      "Frame kwargs:\n",
      "+-------------+------------+-------------+------------+--------+\n",
      "| petallength | petalwidth | sepallength | sepalwidth | target |\n",
      "+-------------+------------+-------------+------------+--------+\n",
      "|     1.4     |    0.2     |     5.1     |    3.5     |   0    |\n",
      "|     1.4     |    0.2     |     4.9     |    3.0     |   0    |\n",
      "|     1.3     |    0.2     |     4.7     |    3.2     |   0    |\n",
      "|      .      |     .      |      .      |     .      |   .    |\n",
      "|      .      |     .      |      .      |     .      |   .    |\n",
      "|      .      |     .      |      .      |     .      |   .    |\n",
      "|     5.2     |    2.0     |     6.5     |    3.0     |   2    |\n",
      "|     5.4     |    2.3     |     6.2     |    3.4     |   2    |\n",
      "|     5.1     |    1.8     |     5.9     |    3.0     |   2    |\n",
      "+-------------+------------+-------------+------------+--------+\n",
      "Frame verbose:\n",
      "+-------------+------------+-------------+------------+--------+\n",
      "| petallength | petalwidth | sepallength | sepalwidth | target |\n",
      "+-------------+------------+-------------+------------+--------+\n",
      "|     1.4     |    0.2     |     5.1     |    3.5     |   0    |\n",
      "|     1.4     |    0.2     |     4.9     |    3.0     |   0    |\n",
      "|     1.3     |    0.2     |     4.7     |    3.2     |   0    |\n",
      "|      .      |     .      |      .      |     .      |   .    |\n",
      "|      .      |     .      |      .      |     .      |   .    |\n",
      "|      .      |     .      |      .      |     .      |   .    |\n",
      "|     5.2     |    2.0     |     6.5     |    3.0     |   2    |\n",
      "|     5.4     |    2.3     |     6.2     |    3.4     |   2    |\n",
      "|     5.1     |    1.8     |     5.9     |    3.0     |   2    |\n",
      "+-------------+------------+-------------+------------+--------+\n"
     ]
    }
   ],
   "source": [
    "print(\"Frame kwargs:\")\n",
    "print(frame)\n",
    "print(\"Frame verbose:\")\n",
    "print(frame_expl)"
   ]
  },
  {
   "cell_type": "markdown",
   "metadata": {},
   "source": [
    "Note that upon instantiation the column names are sorted alphabetically. "
   ]
  },
  {
   "cell_type": "markdown",
   "metadata": {
    "collapsed": true
   },
   "source": [
    "## Using the DataFrame class\n",
    "\n",
    "Basically ``DataFrame`` has four nice features. I will explain them one at a time."
   ]
  },
  {
   "cell_type": "markdown",
   "metadata": {
    "collapsed": true
   },
   "source": [
    "### Subsetting DataFrame columns\n",
    "\n",
    "``subset`` lets you select some columns from the original DataFrame and returns a new DataFrame object:"
   ]
  },
  {
   "cell_type": "code",
   "execution_count": 27,
   "metadata": {
    "collapsed": false
   },
   "outputs": [
    {
     "name": "stdout",
     "output_type": "stream",
     "text": [
      "+--------+\n",
      "| target |\n",
      "+--------+\n",
      "|   0    |\n",
      "|   0    |\n",
      "|   0    |\n",
      "|   .    |\n",
      "|   .    |\n",
      "|   .    |\n",
      "|   2    |\n",
      "|   2    |\n",
      "|   2    |\n",
      "+--------+\n"
     ]
    }
   ],
   "source": [
    "sub_frame = frame.subset(\"target\")\n",
    "print(sub_frame)"
   ]
  },
  {
   "cell_type": "markdown",
   "metadata": {},
   "source": [
    "### Aggregating DataFrame columns\n",
    "\n",
    "``aggregate`` takes one or multiple columns and computes an aggregation function. With the aggregated values a new DataFrame object is returned. **Beware** that your aggregation function returns a **scalar**, e.g. a ``float``. First we need to write a class that extends ``Callable`` and overwrites ``__call__``. Some basic functions are alread implemented. For the sake of illustration let's write a class that calculates the mean of a list:"
   ]
  },
  {
   "cell_type": "code",
   "execution_count": 28,
   "metadata": {
    "collapsed": true
   },
   "outputs": [],
   "source": [
    "from dataframe import Callable\n",
    "import numpy\n",
    "\n",
    "class Mean(Callable):\n",
    "    def __call__(self, *args):\n",
    "        vals = args[0].values()\n",
    "        return numpy.mean(vals)"
   ]
  },
  {
   "cell_type": "markdown",
   "metadata": {},
   "source": [
    "Now you can aggregate the frame like this:"
   ]
  },
  {
   "cell_type": "code",
   "execution_count": 29,
   "metadata": {
    "collapsed": false
   },
   "outputs": [
    {
     "name": "stdout",
     "output_type": "stream",
     "text": [
      "+---------------+\n",
      "|      mean     |\n",
      "+---------------+\n",
      "| 3.75866666667 |\n",
      "+---------------+\n"
     ]
    }
   ],
   "source": [
    "agg_frame = frame.aggregate(Mean, \"mean\", \"petallength\")\n",
    "print(agg_frame)"
   ]
  },
  {
   "cell_type": "markdown",
   "metadata": {},
   "source": [
    "Note that **all** other columns are discarded here, because the ``DataFrame`` cannot know what you want to do with them."
   ]
  },
  {
   "cell_type": "markdown",
   "metadata": {},
   "source": [
    "### Modifying DataFrame columns\n",
    "\n",
    "\n",
    "Similar to ``aggregate``, we can ``modify`` several columns, too. To do that, we again have to write a class extending ``Callable``. **Beware** that unlike in aggregation, modification requires to give a list of the **same size** as your original column length, i.e. your class has to return a **list** and not a scalar. For example:"
   ]
  },
  {
   "cell_type": "code",
   "execution_count": 30,
   "metadata": {
    "collapsed": false
   },
   "outputs": [
    {
     "name": "stdout",
     "output_type": "stream",
     "text": [
      "150\n"
     ]
    }
   ],
   "source": [
    "print(len(frame[\"target\"].values()))"
   ]
  },
  {
   "cell_type": "markdown",
   "metadata": {},
   "source": [
    "So if we call ``modify`` on a column in our ``frame`` the result has to be of length ``150``. \n",
    "As an example lets standardize the column ``pentallength``."
   ]
  },
  {
   "cell_type": "code",
   "execution_count": 31,
   "metadata": {
    "collapsed": false
   },
   "outputs": [
    {
     "name": "stdout",
     "output_type": "stream",
     "text": [
      "+-------------+------------+-------------+------------+--------+---------------------+\n",
      "| petallength | petalwidth | sepallength | sepalwidth | target |        zscore       |\n",
      "+-------------+------------+-------------+------------+--------+---------------------+\n",
      "|     1.4     |    0.2     |     5.1     |    3.5     |   0    | -1.3412724047598314 |\n",
      "|     1.4     |    0.2     |     4.9     |    3.0     |   0    | -1.3412724047598314 |\n",
      "|     1.3     |    0.2     |     4.7     |    3.2     |   0    | -1.3981381087490836 |\n",
      "|      .      |     .      |      .      |     .      |   .    |          .          |\n",
      "|      .      |     .      |      .      |     .      |   .    |          .          |\n",
      "|      .      |     .      |      .      |     .      |   .    |          .          |\n",
      "|     5.2     |    2.0     |     6.5     |    3.0     |   2    |  0.8196243468317573 |\n",
      "|     5.4     |    2.3     |     6.2     |    3.4     |   2    |  0.9333557548102621 |\n",
      "|     5.1     |    1.8     |     5.9     |    3.0     |   2    |  0.7627586428425047 |\n",
      "+-------------+------------+-------------+------------+--------+---------------------+\n"
     ]
    }
   ],
   "source": [
    "import scipy.stats as sps\n",
    "\n",
    "class Zscore(Callable):\n",
    "    def __call__(self, *args):\n",
    "        vals = args[0].values()\n",
    "        return sps.zscore(vals).tolist()\n",
    "    \n",
    "mod_frame = frame.modify(Zscore, \"zscore\", \"petallength\")\n",
    "print(mod_frame)"
   ]
  },
  {
   "cell_type": "markdown",
   "metadata": {},
   "source": [
    "I noticed that ``scipy`` calculates other values that when I standardize using ``R``. Maybe you have the same issue."
   ]
  },
  {
   "cell_type": "markdown",
   "metadata": {},
   "source": [
    "### Grouping the DataFrame\n",
    "\n",
    "Using ``group`` creates a new object from your ``DataFrame`` that puts single rows into groups, creating a ``GroupedDataFrame`` object."
   ]
  },
  {
   "cell_type": "code",
   "execution_count": 32,
   "metadata": {
    "collapsed": false
   },
   "outputs": [
    {
     "name": "stdout",
     "output_type": "stream",
     "text": [
      "+-------------+------------+-------------+------------+--------+\n",
      "| petallength | petalwidth | sepallength | sepalwidth | target |\n",
      "+-------------+------------+-------------+------------+--------+\n",
      "|     1.4     |    0.2     |     5.1     |    3.5     |   0    |\n",
      "|     1.4     |    0.2     |     4.9     |    3.0     |   0    |\n",
      "|     1.3     |    0.2     |     4.7     |    3.2     |   0    |\n",
      "|     1.5     |    0.2     |     4.6     |    3.1     |   0    |\n",
      "|     1.4     |    0.2     |     5.0     |    3.6     |   0    |\n",
      "|     ---     |    ---     |     ---     |    ---     |  ---   |\n",
      "|     4.7     |    1.4     |     7.0     |    3.2     |   1    |\n",
      "|     4.5     |    1.5     |     6.4     |    3.2     |   1    |\n",
      "|     4.9     |    1.5     |     6.9     |    3.1     |   1    |\n",
      "|     4.0     |    1.3     |     5.5     |    2.3     |   1    |\n",
      "|     4.6     |    1.5     |     6.5     |    2.8     |   1    |\n",
      "+-------------+------------+-------------+------------+--------+\n"
     ]
    }
   ],
   "source": [
    "grouped_frame = frame.group(\"target\")\n",
    "print(grouped_frame)"
   ]
  },
  {
   "cell_type": "markdown",
   "metadata": {},
   "source": [
    "In the table to the top, we created several groups. Visually you can distinguish a ``DataFrame`` from a ``GroupedDataFrame`` by the **dashes** when printing. We'll discuss using the ``GroupedDataFrame`` class in the next section."
   ]
  },
  {
   "cell_type": "markdown",
   "metadata": {},
   "source": [
    "## Using the GroupedDataFrame class\n",
    "\n",
    "Basically ``GroupedDataFrame`` has the same features as ``DataFrame`` since both inherit from the same superclass ``ADataFrame``. So the routines do the same things, only on every **group** and not on the **whole** ``DataFrame`` object. We start out with a plain ``DataFrame`` and work through all the important methods."
   ]
  },
  {
   "cell_type": "markdown",
   "metadata": {},
   "source": [
    "### Subsetting GroupedDataFrame columns\n"
   ]
  },
  {
   "cell_type": "code",
   "execution_count": 33,
   "metadata": {
    "collapsed": false
   },
   "outputs": [
    {
     "name": "stdout",
     "output_type": "stream",
     "text": [
      "+-------------+--------+\n",
      "| petallength | target |\n",
      "+-------------+--------+\n",
      "|     1.4     |   0    |\n",
      "|     1.4     |   0    |\n",
      "|     1.3     |   0    |\n",
      "|     1.5     |   0    |\n",
      "|     1.4     |   0    |\n",
      "|     ---     |  ---   |\n",
      "|     4.7     |   1    |\n",
      "|     4.5     |   1    |\n",
      "|     4.9     |   1    |\n",
      "|     4.0     |   1    |\n",
      "|     4.6     |   1    |\n",
      "+-------------+--------+\n"
     ]
    }
   ],
   "source": [
    "sub_grouped_frame = grouped_frame.subset(\"petallength\", \"target\")\n",
    "print(sub_grouped_frame)"
   ]
  },
  {
   "cell_type": "markdown",
   "metadata": {},
   "source": [
    "### Aggregating GroupedDataFrame columns\n"
   ]
  },
  {
   "cell_type": "code",
   "execution_count": 34,
   "metadata": {
    "collapsed": false
   },
   "outputs": [
    {
     "name": "stdout",
     "output_type": "stream",
     "text": [
      "+-------+--------+\n",
      "|  mean | target |\n",
      "+-------+--------+\n",
      "| 0.244 |   0    |\n",
      "| 1.326 |   1    |\n",
      "| 2.026 |   2    |\n",
      "+-------+--------+\n"
     ]
    }
   ],
   "source": [
    "agg_grouped_frame = grouped_frame.aggregate(Mean, \"mean\", \"petalwidth\")\n",
    "print(agg_grouped_frame)"
   ]
  },
  {
   "cell_type": "markdown",
   "metadata": {},
   "source": [
    "### Modifying GroupedDataFrame columns"
   ]
  },
  {
   "cell_type": "code",
   "execution_count": 35,
   "metadata": {
    "collapsed": false,
    "scrolled": true
   },
   "outputs": [
    {
     "name": "stdout",
     "output_type": "stream",
     "text": [
      "+-------------+------------+-------------+------------+--------+----------------------+\n",
      "| petallength | petalwidth | sepallength | sepalwidth | target |        zscore        |\n",
      "+-------------+------------+-------------+------------+--------+----------------------+\n",
      "|     1.4     |    0.2     |     5.1     |    3.5     |   0    | -0.37259714626609813 |\n",
      "|     1.4     |    0.2     |     4.9     |    3.0     |   0    | -0.37259714626609813 |\n",
      "|     1.3     |    0.2     |     4.7     |    3.2     |   0    | -0.9547801873068752  |\n",
      "|     1.5     |    0.2     |     4.6     |    3.1     |   0    |  0.2095858947746802  |\n",
      "|     1.4     |    0.2     |     5.0     |    3.6     |   0    | -0.37259714626609813 |\n",
      "|     ---     |    ---     |     ---     |    ---     |  ---   |         ---          |\n",
      "|     4.7     |    1.4     |     7.0     |    3.2     |   1    |  0.9458538768631659  |\n",
      "|     4.5     |    1.5     |     6.4     |    3.2     |   1    |  0.5159202964708177  |\n",
      "|     4.9     |    1.5     |     6.9     |    3.1     |   1    |  1.375787457255514   |\n",
      "|     4.0     |    1.3     |     5.5     |    2.3     |   1    | -0.5589136545100516  |\n",
      "|     4.6     |    1.5     |     6.5     |    2.8     |   1    |  0.7308870866669909  |\n",
      "+-------------+------------+-------------+------------+--------+----------------------+\n"
     ]
    }
   ],
   "source": [
    "mod_grouped_frame = grouped_frame.modify(Zscore, \"zscore\", \"petallength\")\n",
    "print(mod_grouped_frame)"
   ]
  },
  {
   "cell_type": "markdown",
   "metadata": {},
   "source": [
    "### Grouping GroupedDataFrame columns\n"
   ]
  },
  {
   "cell_type": "code",
   "execution_count": 36,
   "metadata": {
    "collapsed": false
   },
   "outputs": [
    {
     "name": "stdout",
     "output_type": "stream",
     "text": [
      "+-------------+------------+-------------+------------+--------+\n",
      "| petallength | petalwidth | sepallength | sepalwidth | target |\n",
      "+-------------+------------+-------------+------------+--------+\n",
      "|     6.1     |    2.5     |     7.2     |    3.6     |   2    |\n",
      "|     6.1     |    1.9     |     7.4     |    2.8     |   2    |\n",
      "|     6.1     |    2.3     |     7.7     |    3.0     |   2    |\n",
      "|     ---     |    ---     |     ---     |    ---     |  ---   |\n",
      "|     5.5     |    2.1     |     6.8     |    3.0     |   2    |\n",
      "|     5.5     |    1.8     |     6.5     |    3.0     |   2    |\n",
      "|     5.5     |    1.8     |     6.4     |    3.1     |   2    |\n",
      "+-------------+------------+-------------+------------+--------+\n"
     ]
    }
   ],
   "source": [
    "twice_grouped_frame = grouped_frame.group(\"petallength\")\n",
    "print(twice_grouped_frame)"
   ]
  }
 ],
 "metadata": {
  "kernelspec": {
   "display_name": "Python 3",
   "language": "python",
   "name": "python3"
  },
  "language_info": {
   "codemirror_mode": {
    "name": "ipython",
    "version": 3
   },
   "file_extension": ".py",
   "mimetype": "text/x-python",
   "name": "python",
   "nbconvert_exporter": "python",
   "pygments_lexer": "ipython3",
   "version": "3.4.5"
  }
 },
 "nbformat": 4,
 "nbformat_minor": 1
}
